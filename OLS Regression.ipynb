{
 "cells": [
  {
   "cell_type": "markdown",
   "metadata": {},
   "source": [
    "# OLS Regression Project\n",
    "\n",
    "## Introduction\n",
    "\n",
    "For this project, I will be using the dataset provided by NCHS which contains the top 10 Leading causes of death for all the states in America from the year 1999 to 2016. I will frame my own question, for which the answer will be deduced from this dataset and also some additional data which I have collected from sources on the web. I will clean the data and make sure that all the data collected will be organized in a way that best helps answer the question. I will be performing an analysis of the datasets and will also perform visualization to gauge relationships among some key variables. Finally, I will build an Ordinary Least Squares regression model to measure how the independent variable affects the y - variable and to decide if the model is suited to make predictions for future values.\n",
    "\n",
    "### Datasets used\n",
    "\n",
    "1) Top 10 Leading causes of death from NCHS\n",
    "\n",
    "2) Health Insurance Coverage of Total Population in United States from kff.org\n",
    "\n",
    "3) Median Household Income by State (1984 - 2015) from US Census Bureau\n",
    "\n",
    "4) US Census Population Data (2010 - 2017)"
   ]
  },
  {
   "cell_type": "code",
   "execution_count": 1,
   "metadata": {},
   "outputs": [],
   "source": [
    "#import packages\n",
    "import numpy as np\n",
    "import pandas as pd\n",
    "import matplotlib.pyplot as plt\n",
    "import seaborn as sns\n",
    "%matplotlib inline"
   ]
  },
  {
   "cell_type": "markdown",
   "metadata": {},
   "source": [
    "## Q -  Does the median household income of a state have an effect on the deaths from cancer? \n",
    "\n",
    "It may be understood that the greater one’s income, the lower one’s likelihood of disease and premature death. Cancer is a disease that requires significant costs for treatment and patients who cant afford to pay for the treatment have a higher likelihood of death. A higher household income can be considered as a measure of better \"economic well-being\". Higher-income can also help in getting health insurance from private firms which people with low household income cant afford. But does the median household income have any effect on the deaths due to cancer? We shall be finding out. \n",
    "\n",
    "First, we shall be using the dataset provided by the US census bureau which contains the median household income from all the states in the US including the District of Columbia from the year 1999 to 2015. I will also be creating a new dataframe 'incomes_2' which will have the median household incomes from the year 2010 to 2014. I will be removing the row 'United States' which contains the median household income for the whole country."
   ]
  },
  {
   "cell_type": "code",
   "execution_count": 2,
   "metadata": {},
   "outputs": [
    {
     "data": {
      "text/html": [
       "<div>\n",
       "<style scoped>\n",
       "    .dataframe tbody tr th:only-of-type {\n",
       "        vertical-align: middle;\n",
       "    }\n",
       "\n",
       "    .dataframe tbody tr th {\n",
       "        vertical-align: top;\n",
       "    }\n",
       "\n",
       "    .dataframe thead th {\n",
       "        text-align: right;\n",
       "    }\n",
       "</style>\n",
       "<table border=\"1\" class=\"dataframe\">\n",
       "  <thead>\n",
       "    <tr style=\"text-align: right;\">\n",
       "      <th></th>\n",
       "      <th>State</th>\n",
       "      <th>2014</th>\n",
       "      <th>2013</th>\n",
       "      <th>2012</th>\n",
       "      <th>2011</th>\n",
       "      <th>2010</th>\n",
       "      <th>2009</th>\n",
       "      <th>2008</th>\n",
       "      <th>2007</th>\n",
       "      <th>2006</th>\n",
       "      <th>2005</th>\n",
       "      <th>2004</th>\n",
       "      <th>2003</th>\n",
       "      <th>2002</th>\n",
       "      <th>2001</th>\n",
       "      <th>2000</th>\n",
       "      <th>1999</th>\n",
       "    </tr>\n",
       "  </thead>\n",
       "  <tbody>\n",
       "    <tr>\n",
       "      <th>2</th>\n",
       "      <td>Alabama</td>\n",
       "      <td>42278</td>\n",
       "      <td>47320</td>\n",
       "      <td>43464</td>\n",
       "      <td>42590</td>\n",
       "      <td>40933</td>\n",
       "      <td>39980</td>\n",
       "      <td>44476</td>\n",
       "      <td>42212</td>\n",
       "      <td>37952</td>\n",
       "      <td>37150</td>\n",
       "      <td>36629</td>\n",
       "      <td>37255</td>\n",
       "      <td>37603</td>\n",
       "      <td>35160</td>\n",
       "      <td>35424</td>\n",
       "      <td>36251</td>\n",
       "    </tr>\n",
       "    <tr>\n",
       "      <th>3</th>\n",
       "      <td>Alaska</td>\n",
       "      <td>67629</td>\n",
       "      <td>72472</td>\n",
       "      <td>63648</td>\n",
       "      <td>57431</td>\n",
       "      <td>57848</td>\n",
       "      <td>61604</td>\n",
       "      <td>63989</td>\n",
       "      <td>62993</td>\n",
       "      <td>56418</td>\n",
       "      <td>55891</td>\n",
       "      <td>55063</td>\n",
       "      <td>51837</td>\n",
       "      <td>52774</td>\n",
       "      <td>57363</td>\n",
       "      <td>52847</td>\n",
       "      <td>51396</td>\n",
       "    </tr>\n",
       "    <tr>\n",
       "      <th>4</th>\n",
       "      <td>Arizona</td>\n",
       "      <td>49254</td>\n",
       "      <td>52611</td>\n",
       "      <td>47044</td>\n",
       "      <td>48621</td>\n",
       "      <td>46896</td>\n",
       "      <td>45739</td>\n",
       "      <td>46914</td>\n",
       "      <td>47215</td>\n",
       "      <td>46657</td>\n",
       "      <td>45245</td>\n",
       "      <td>43846</td>\n",
       "      <td>41166</td>\n",
       "      <td>39734</td>\n",
       "      <td>42704</td>\n",
       "      <td>39783</td>\n",
       "      <td>36995</td>\n",
       "    </tr>\n",
       "  </tbody>\n",
       "</table>\n",
       "</div>"
      ],
      "text/plain": [
       "0    State   2014   2013   2012   2011   2010   2009   2008   2007   2006  \\\n",
       "2  Alabama  42278  47320  43464  42590  40933  39980  44476  42212  37952   \n",
       "3   Alaska  67629  72472  63648  57431  57848  61604  63989  62993  56418   \n",
       "4  Arizona  49254  52611  47044  48621  46896  45739  46914  47215  46657   \n",
       "\n",
       "0   2005   2004   2003   2002   2001   2000   1999  \n",
       "2  37150  36629  37255  37603  35160  35424  36251  \n",
       "3  55891  55063  51837  52774  57363  52847  51396  \n",
       "4  45245  43846  41166  39734  42704  39783  36995  "
      ]
     },
     "execution_count": 2,
     "metadata": {},
     "output_type": "execute_result"
    }
   ],
   "source": [
    "import pandas as pd\n",
    "incomes = pd.read_excel('Median Household Income by State 1984 through 2015.xlsx')\n",
    "new_header = incomes.iloc[0] \n",
    "\n",
    "#Remove the United States row\n",
    "incomes = incomes[1:]\n",
    "incomes.columns = new_header \n",
    "incomes.dropna(axis=1, inplace=True)\n",
    "incomes.dropna(axis=1, inplace=True)\n",
    "\n",
    "#incomes from 2010 to 2014\n",
    "incomes_2 = incomes[incomes.columns[:6]]\n",
    "incomes_2 = incomes_2[incomes_2['State'] != 'United States']\n",
    "\n",
    "incomes = incomes[incomes['State'] != 'United States']\n",
    "\n",
    "\n",
    "incomes.head(3)"
   ]
  },
  {
   "cell_type": "markdown",
   "metadata": {},
   "source": [
    "As we can see above we have our incomes dataframe where the Median Household Incomes for each individual state are provided according to year. But in order to use this dataframe with the Leading Cause of deaths dataframe, I will need to flatten the dataframe under a single column which can then be joined with the NCHS Dataframe. Since the 'States' are sorted ascendingly I will remove the States column and use the .ravel() function to flatten the dataframe and list every income under a single column as shown below."
   ]
  },
  {
   "cell_type": "code",
   "execution_count": 3,
   "metadata": {},
   "outputs": [
    {
     "data": {
      "text/html": [
       "<div>\n",
       "<style scoped>\n",
       "    .dataframe tbody tr th:only-of-type {\n",
       "        vertical-align: middle;\n",
       "    }\n",
       "\n",
       "    .dataframe tbody tr th {\n",
       "        vertical-align: top;\n",
       "    }\n",
       "\n",
       "    .dataframe thead th {\n",
       "        text-align: right;\n",
       "    }\n",
       "</style>\n",
       "<table border=\"1\" class=\"dataframe\">\n",
       "  <thead>\n",
       "    <tr style=\"text-align: right;\">\n",
       "      <th></th>\n",
       "      <th>Median_Household_Income</th>\n",
       "    </tr>\n",
       "  </thead>\n",
       "  <tbody>\n",
       "    <tr>\n",
       "      <th>0</th>\n",
       "      <td>42278</td>\n",
       "    </tr>\n",
       "    <tr>\n",
       "      <th>1</th>\n",
       "      <td>47320</td>\n",
       "    </tr>\n",
       "    <tr>\n",
       "      <th>2</th>\n",
       "      <td>43464</td>\n",
       "    </tr>\n",
       "    <tr>\n",
       "      <th>3</th>\n",
       "      <td>42590</td>\n",
       "    </tr>\n",
       "    <tr>\n",
       "      <th>4</th>\n",
       "      <td>40933</td>\n",
       "    </tr>\n",
       "  </tbody>\n",
       "</table>\n",
       "</div>"
      ],
      "text/plain": [
       "   Median_Household_Income\n",
       "0                    42278\n",
       "1                    47320\n",
       "2                    43464\n",
       "3                    42590\n",
       "4                    40933"
      ]
     },
     "execution_count": 3,
     "metadata": {},
     "output_type": "execute_result"
    }
   ],
   "source": [
    "incomes_2 = incomes_2.drop(['State'], axis = 1)\n",
    "incomes_2 = pd.DataFrame({'Median_Household_Income':incomes_2.values.ravel()})\n",
    "\n",
    "incomes = incomes.drop(['State'], axis = 1)\n",
    "incomes = pd.DataFrame({'Median_Household_Income':incomes.values.ravel()})\n",
    "incomes.head(5)"
   ]
  },
  {
   "cell_type": "markdown",
   "metadata": {},
   "source": [
    "Now I will be using two additional Datasets:\n",
    "\n",
    "1) The first of these two datasets will be the population data collected from the US Census Bureau. This Dataset contains the Total Population recorded at mid-year for each state in the United States including the District of Columbia from the year 2010 to 2014. \n",
    "\n",
    "2) The second dataset is the Helth insurance coverage dataset from KFF.org which mentions the number of Uninsured people for each state from the year 2010 to 2014. \n",
    "\n",
    "I will be creating a new column which will show the percent of uninsured for a state using these two datasets. This will be helpful in seeing if there is any relationship between the Median Household Income of a state to the number of uninsured people in that state.\n",
    "\n",
    "I will be using the same flattening technique (.ravel() function) used above in order to display all the population and uninsured values under a single column."
   ]
  },
  {
   "cell_type": "code",
   "execution_count": 4,
   "metadata": {},
   "outputs": [
    {
     "name": "stdout",
     "output_type": "stream",
     "text": [
      "       State       2014       2013       2012       2011       2010\n",
      "0   .Alabama  48,42,481  48,30,460  48,15,564  47,98,834  47,85,448\n",
      "1    .Alaska   7,36,307   7,37,045   7,30,399   7,22,038   7,13,906\n",
      "2   .Arizona  67,33,840  66,34,999  65,56,629  64,73,497  64,07,774\n",
      "3  .Arkansas  29,67,726  29,59,549  29,52,109  29,40,407  29,21,978\n",
      "        Location      2014      2013      2012      2011      2010      2009  \\\n",
      "0  United States  36342200  44845800  45212400  46031700  46912100  44759100   \n",
      "1        Alabama    564800    642900    624300    661100    686800    632500   \n",
      "2         Alaska    123700    130900    143500    139100    124100    136000   \n",
      "3        Arizona    896900   1123300   1117200   1085700   1061900   1191900   \n",
      "\n",
      "         2008  \n",
      "0  45314300.0  \n",
      "1    634500.0  \n",
      "2    137300.0  \n",
      "3   1127100.0  \n"
     ]
    }
   ],
   "source": [
    "# Population Data 2010 - 2014\n",
    "population = pd.read_csv('population_US_census_data.csv')\n",
    "print(population.head(4))\n",
    "population = population.drop(['State'], axis = 1)\n",
    "population = pd.DataFrame({'Total_Population':population.values.ravel()})\n",
    "population['Total_Population'] = population['Total_Population'].str.replace(',', '')\n",
    "population['Total_Population'] = population['Total_Population'].astype(int)\n",
    "\n",
    "\n",
    "# Uninsured data 2010 - 2014\n",
    "uninsured = pd.read_csv('uninsured_data.csv')\n",
    "print(uninsured.head(4))\n",
    "uninsured = uninsured.drop(['2008', '2009'], axis = 1)\n",
    "uninsured = uninsured[uninsured['Location'] != 'United States']\n",
    "uninsured = uninsured.drop(['Location'], axis = 1)\n",
    "uninsured = pd.DataFrame({'Uninsured':uninsured.values.ravel()})\n",
    "\n"
   ]
  },
  {
   "cell_type": "markdown",
   "metadata": {},
   "source": [
    "The main dataset provided by NCHS is based on information from all resident death certificates filed in the 50 states and the District of Columbia using demographic and medical characteristics.\n",
    "Age-adjusted death rates (per 100,000 population) are based on the 2000 U.S. standard population. Populations used for computing death rates after 2010 are postcensal estimates based on the 2010 census, estimated as of July 1, 2010. Rates for census years are based on populations enumerated in the corresponding censuses.\n",
    "\n",
    "Since we are focusing on cancer death rates I will be extracting rows that have Cancer as the 'Cause Name'. I will also be removing the rows which have the United States as the state values. I will be creating another additional dataset which will contain the cancer deaths from the year 2010 - 2014. This is due to some visualization that I will be performing later."
   ]
  },
  {
   "cell_type": "code",
   "execution_count": 5,
   "metadata": {},
   "outputs": [
    {
     "data": {
      "text/html": [
       "<div>\n",
       "<style scoped>\n",
       "    .dataframe tbody tr th:only-of-type {\n",
       "        vertical-align: middle;\n",
       "    }\n",
       "\n",
       "    .dataframe tbody tr th {\n",
       "        vertical-align: top;\n",
       "    }\n",
       "\n",
       "    .dataframe thead th {\n",
       "        text-align: right;\n",
       "    }\n",
       "</style>\n",
       "<table border=\"1\" class=\"dataframe\">\n",
       "  <thead>\n",
       "    <tr style=\"text-align: right;\">\n",
       "      <th></th>\n",
       "      <th>Year</th>\n",
       "      <th>113 Cause Name</th>\n",
       "      <th>Cause Name</th>\n",
       "      <th>State</th>\n",
       "      <th>Deaths</th>\n",
       "      <th>Death_rate</th>\n",
       "    </tr>\n",
       "  </thead>\n",
       "  <tbody>\n",
       "    <tr>\n",
       "      <th>1215</th>\n",
       "      <td>2016</td>\n",
       "      <td>Intentional self-harm (suicide) (*U03,X60-X84,...</td>\n",
       "      <td>Suicide</td>\n",
       "      <td>United States</td>\n",
       "      <td>44965</td>\n",
       "      <td>13.5</td>\n",
       "    </tr>\n",
       "    <tr>\n",
       "      <th>7022</th>\n",
       "      <td>2016</td>\n",
       "      <td>Accidents (unintentional injuries) (V01-X59,Y8...</td>\n",
       "      <td>Unintentional injuries</td>\n",
       "      <td>Florida</td>\n",
       "      <td>12561</td>\n",
       "      <td>54.9</td>\n",
       "    </tr>\n",
       "    <tr>\n",
       "      <th>4669</th>\n",
       "      <td>2016</td>\n",
       "      <td>Alzheimer's disease (G30)</td>\n",
       "      <td>Alzheimer's disease</td>\n",
       "      <td>Iowa</td>\n",
       "      <td>1415</td>\n",
       "      <td>31.3</td>\n",
       "    </tr>\n",
       "  </tbody>\n",
       "</table>\n",
       "</div>"
      ],
      "text/plain": [
       "      Year                                     113 Cause Name  \\\n",
       "1215  2016  Intentional self-harm (suicide) (*U03,X60-X84,...   \n",
       "7022  2016  Accidents (unintentional injuries) (V01-X59,Y8...   \n",
       "4669  2016                          Alzheimer's disease (G30)   \n",
       "\n",
       "                  Cause Name          State  Deaths  Death_rate  \n",
       "1215                 Suicide  United States   44965        13.5  \n",
       "7022  Unintentional injuries        Florida   12561        54.9  \n",
       "4669     Alzheimer's disease           Iowa    1415        31.3  "
      ]
     },
     "execution_count": 5,
     "metadata": {},
     "output_type": "execute_result"
    }
   ],
   "source": [
    "x = pd.read_csv('NCHS_-_Leading_Causes_of_Death__United_States.csv')\n",
    "x.sort_values('Year', inplace = True, ascending = False)\n",
    "x = x.rename(columns = {'Age-adjusted Death Rate': 'Death_rate'})\n",
    "\n",
    "# Leading causes of Death by NCHS\n",
    "df = pd.read_csv('NCHS_-_Leading_Causes_of_Death__United_States.csv')\n",
    "df.sort_values('Year', inplace = True, ascending = False)\n",
    "df = df.rename(columns = {'Age-adjusted Death Rate': 'Death_rate'})\n",
    "df.head(3)"
   ]
  },
  {
   "cell_type": "code",
   "execution_count": 7,
   "metadata": {},
   "outputs": [],
   "source": [
    "# 2010 - 2014 NCHS Cancer dataframe\n",
    "df_3 = df[df['State'] != 'United States']\n",
    "df_3 = df[df['Cause Name'] == 'Cancer']\n",
    "df_3 = df_3.loc[df_3['Year'].isin([2010, 2011, 2012, 2013, 2014])]\n",
    "df_3\n",
    "\n",
    "# NCHS Cancer only united states 1999-2014\n",
    "df_1 = x[x['State'] == 'United States']\n",
    "df_1 = df_1[df_1['Cause Name'] == 'Cancer']\n",
    "df_1 = df_1.query('Year != 2016 and Year != 2015')\n",
    "\n",
    "#NCHS without United states, cancer 1999 - 2014\n",
    "df = df[df['State'] != 'United States']\n",
    "df = df[df['Cause Name'] == 'Cancer']\n",
    "df.sort_values(['State', 'Year'], inplace=True,ascending = [True, False])\n",
    "df = df.query('Year != 2016 and Year != 2015')\n",
    "df = df.drop(['113 Cause Name'], axis = 1)\n"
   ]
  },
  {
   "cell_type": "markdown",
   "metadata": {},
   "source": [
    "In order to be able to join the incomes, population and uninsured data to this dataframe I will have to reset the index. "
   ]
  },
  {
   "cell_type": "code",
   "execution_count": 8,
   "metadata": {},
   "outputs": [],
   "source": [
    "df = df.reset_index()\n",
    "df = df.drop(['index'], axis = 1)\n",
    "\n",
    "df_3 = df_3.reset_index()\n",
    "df_3 = df_3.drop(['index'], axis = 1)"
   ]
  },
  {
   "cell_type": "code",
   "execution_count": 9,
   "metadata": {},
   "outputs": [
    {
     "data": {
      "text/html": [
       "<div>\n",
       "<style scoped>\n",
       "    .dataframe tbody tr th:only-of-type {\n",
       "        vertical-align: middle;\n",
       "    }\n",
       "\n",
       "    .dataframe tbody tr th {\n",
       "        vertical-align: top;\n",
       "    }\n",
       "\n",
       "    .dataframe thead th {\n",
       "        text-align: right;\n",
       "    }\n",
       "</style>\n",
       "<table border=\"1\" class=\"dataframe\">\n",
       "  <thead>\n",
       "    <tr style=\"text-align: right;\">\n",
       "      <th></th>\n",
       "      <th>Year</th>\n",
       "      <th>Cause Name</th>\n",
       "      <th>State</th>\n",
       "      <th>Deaths</th>\n",
       "      <th>Death_rate</th>\n",
       "      <th>Median_Household_Income</th>\n",
       "      <th>Total_Population</th>\n",
       "      <th>Uninsured</th>\n",
       "      <th>Uninsured (%)</th>\n",
       "    </tr>\n",
       "  </thead>\n",
       "  <tbody>\n",
       "    <tr>\n",
       "      <th>0</th>\n",
       "      <td>2014</td>\n",
       "      <td>Cancer</td>\n",
       "      <td>Alabama</td>\n",
       "      <td>10286</td>\n",
       "      <td>177.6</td>\n",
       "      <td>42278</td>\n",
       "      <td>4842481</td>\n",
       "      <td>564800</td>\n",
       "      <td>11.66</td>\n",
       "    </tr>\n",
       "    <tr>\n",
       "      <th>1</th>\n",
       "      <td>2013</td>\n",
       "      <td>Cancer</td>\n",
       "      <td>Alabama</td>\n",
       "      <td>10328</td>\n",
       "      <td>182.2</td>\n",
       "      <td>47320</td>\n",
       "      <td>4830460</td>\n",
       "      <td>642900</td>\n",
       "      <td>13.31</td>\n",
       "    </tr>\n",
       "    <tr>\n",
       "      <th>2</th>\n",
       "      <td>2012</td>\n",
       "      <td>Cancer</td>\n",
       "      <td>Alabama</td>\n",
       "      <td>10276</td>\n",
       "      <td>185.2</td>\n",
       "      <td>43464</td>\n",
       "      <td>4815564</td>\n",
       "      <td>624300</td>\n",
       "      <td>12.96</td>\n",
       "    </tr>\n",
       "    <tr>\n",
       "      <th>3</th>\n",
       "      <td>2011</td>\n",
       "      <td>Cancer</td>\n",
       "      <td>Alabama</td>\n",
       "      <td>10233</td>\n",
       "      <td>187.8</td>\n",
       "      <td>42590</td>\n",
       "      <td>4798834</td>\n",
       "      <td>661100</td>\n",
       "      <td>13.78</td>\n",
       "    </tr>\n",
       "    <tr>\n",
       "      <th>4</th>\n",
       "      <td>2010</td>\n",
       "      <td>Cancer</td>\n",
       "      <td>Alabama</td>\n",
       "      <td>10196</td>\n",
       "      <td>191.7</td>\n",
       "      <td>40933</td>\n",
       "      <td>4785448</td>\n",
       "      <td>686800</td>\n",
       "      <td>14.35</td>\n",
       "    </tr>\n",
       "    <tr>\n",
       "      <th>...</th>\n",
       "      <td>...</td>\n",
       "      <td>...</td>\n",
       "      <td>...</td>\n",
       "      <td>...</td>\n",
       "      <td>...</td>\n",
       "      <td>...</td>\n",
       "      <td>...</td>\n",
       "      <td>...</td>\n",
       "      <td>...</td>\n",
       "    </tr>\n",
       "    <tr>\n",
       "      <th>250</th>\n",
       "      <td>2014</td>\n",
       "      <td>Cancer</td>\n",
       "      <td>Wyoming</td>\n",
       "      <td>922</td>\n",
       "      <td>140.7</td>\n",
       "      <td>55690</td>\n",
       "      <td>582548</td>\n",
       "      <td>70600</td>\n",
       "      <td>12.12</td>\n",
       "    </tr>\n",
       "    <tr>\n",
       "      <th>251</th>\n",
       "      <td>2013</td>\n",
       "      <td>Cancer</td>\n",
       "      <td>Wyoming</td>\n",
       "      <td>946</td>\n",
       "      <td>148.2</td>\n",
       "      <td>67441</td>\n",
       "      <td>582123</td>\n",
       "      <td>72600</td>\n",
       "      <td>12.47</td>\n",
       "    </tr>\n",
       "    <tr>\n",
       "      <th>252</th>\n",
       "      <td>2012</td>\n",
       "      <td>Cancer</td>\n",
       "      <td>Wyoming</td>\n",
       "      <td>955</td>\n",
       "      <td>154.2</td>\n",
       "      <td>57512</td>\n",
       "      <td>576270</td>\n",
       "      <td>89800</td>\n",
       "      <td>15.58</td>\n",
       "    </tr>\n",
       "    <tr>\n",
       "      <th>253</th>\n",
       "      <td>2011</td>\n",
       "      <td>Cancer</td>\n",
       "      <td>Wyoming</td>\n",
       "      <td>936</td>\n",
       "      <td>156.0</td>\n",
       "      <td>54509</td>\n",
       "      <td>567224</td>\n",
       "      <td>85100</td>\n",
       "      <td>15.00</td>\n",
       "    </tr>\n",
       "    <tr>\n",
       "      <th>254</th>\n",
       "      <td>2010</td>\n",
       "      <td>Cancer</td>\n",
       "      <td>Wyoming</td>\n",
       "      <td>1016</td>\n",
       "      <td>172.6</td>\n",
       "      <td>52201</td>\n",
       "      <td>564483</td>\n",
       "      <td>80800</td>\n",
       "      <td>14.31</td>\n",
       "    </tr>\n",
       "  </tbody>\n",
       "</table>\n",
       "<p>255 rows × 9 columns</p>\n",
       "</div>"
      ],
      "text/plain": [
       "     Year Cause Name    State  Deaths  Death_rate  Median_Household_Income  \\\n",
       "0    2014     Cancer  Alabama   10286       177.6                    42278   \n",
       "1    2013     Cancer  Alabama   10328       182.2                    47320   \n",
       "2    2012     Cancer  Alabama   10276       185.2                    43464   \n",
       "3    2011     Cancer  Alabama   10233       187.8                    42590   \n",
       "4    2010     Cancer  Alabama   10196       191.7                    40933   \n",
       "..    ...        ...      ...     ...         ...                      ...   \n",
       "250  2014     Cancer  Wyoming     922       140.7                    55690   \n",
       "251  2013     Cancer  Wyoming     946       148.2                    67441   \n",
       "252  2012     Cancer  Wyoming     955       154.2                    57512   \n",
       "253  2011     Cancer  Wyoming     936       156.0                    54509   \n",
       "254  2010     Cancer  Wyoming    1016       172.6                    52201   \n",
       "\n",
       "     Total_Population  Uninsured  Uninsured (%)  \n",
       "0             4842481     564800          11.66  \n",
       "1             4830460     642900          13.31  \n",
       "2             4815564     624300          12.96  \n",
       "3             4798834     661100          13.78  \n",
       "4             4785448     686800          14.35  \n",
       "..                ...        ...            ...  \n",
       "250            582548      70600          12.12  \n",
       "251            582123      72600          12.47  \n",
       "252            576270      89800          15.58  \n",
       "253            567224      85100          15.00  \n",
       "254            564483      80800          14.31  \n",
       "\n",
       "[255 rows x 9 columns]"
      ]
     },
     "execution_count": 9,
     "metadata": {},
     "output_type": "execute_result"
    }
   ],
   "source": [
    "df = df.join(incomes)\n",
    "df.head(2)\n",
    "\n",
    "df_3 = df_3.join(incomes_2)\n",
    "df_3 = df_3.join(population)\n",
    "df_3 = df_3.join(uninsured)\n",
    "\n",
    "df_3['Uninsured (%)'] = (df_3['Uninsured'] / df_3['Total_Population']) * 100\n",
    "df_3['Uninsured (%)'] = df_3['Uninsured (%)'].apply(lambda x: round(x, 2))\n",
    "df_3"
   ]
  },
  {
   "cell_type": "markdown",
   "metadata": {},
   "source": [
    "Now we have our updated datasets which have some additional data such as the 'Median Household Income', 'Total Population', 'No of Uninsured citizens', and the 'Percent of Uninsured.'\n",
    "\n",
    "Now to see which states have the highest and lowest median household incomes I will grouping the original dataframe by Year and State. Then I will be calculating the aggregate sum of Median Household Income for all the states under each year. I will also sort them ascendingly to view the data easily.\n",
    "Down below I have printed states with the 10 highest and 10 lowest median household incomes in the year 2014. We can use this data to perform some further visualization to grasp a better understanding of the relationship between median household income and Cancer deaths."
   ]
  },
  {
   "cell_type": "code",
   "execution_count": 10,
   "metadata": {},
   "outputs": [
    {
     "name": "stdout",
     "output_type": "stream",
     "text": [
      "Top 10 States in 2014 with highest Median Household Income\n",
      "                      Median_Household_Income\n",
      "State                                        \n",
      "Maryland                                76165\n",
      "New Hampshire                           73397\n",
      "Hawaii                                  71223\n",
      "Connecticut                             70161\n",
      "District of Columbia                    68277\n",
      "Alaska                                  67629\n",
      "Minnesota                               67244\n",
      "Virginia                                66155\n",
      "New Jersey                              65243\n",
      "Utah                                    63383\n",
      "Top 10 States in 2014 with lowest Median Household Income\n",
      "                Median_Household_Income\n",
      "State                                  \n",
      "Mississippi                       35521\n",
      "West Virginia                     39552\n",
      "Alabama                           42278\n",
      "Louisiana                         42406\n",
      "Kentucky                          42786\n",
      "Tennessee                         43716\n",
      "Arkansas                          44922\n",
      "South Carolina                    44929\n",
      "Florida                           46140\n",
      "New Mexico                        46686\n"
     ]
    }
   ],
   "source": [
    "state_income = df.groupby(['Year', 'State']).agg({'Median_Household_Income': 'sum', 'Deaths': 'sum'})\n",
    "group1 = state_income['Median_Household_Income'].groupby(level=0, group_keys=False)\n",
    "result1 = group1.apply(lambda x: x.sort_values(ascending=False))\n",
    "\n",
    "\n",
    "state_wise_deaths = pd.DataFrame(result1.transpose())\n",
    "state_wise_deaths.columns = ['Median_Household_Income']\n",
    "print(\"Top 10 States in 2014 with highest Median Household Income\")\n",
    "print(state_wise_deaths.loc[2014].head(10))\n",
    "print(\"Top 10 States in 2014 with lowest Median Household Income\")\n",
    "print(state_wise_deaths.loc[2014].tail(10).sort_values('Median_Household_Income'))"
   ]
  },
  {
   "cell_type": "markdown",
   "metadata": {},
   "source": [
    "## Visualization 1\n",
    "\n",
    "For the first visualization, I will be constructing two graphs which will give better clarity on the relationship between the variables.\n",
    "\n",
    "The first graph is to see the trend of median household income for the entire country from the year 1999 to 2014. From this graph, we would be able to see if the median household income of the US has increased or decreased over this time.\n",
    "\n",
    "The second graph will help us see if the Cancer death rates for the entire country has increased or decreased from the year 1999 to 2014. I will be plotting the average age-adjusted cancer death rates for the entire country against the median household income. This can help us determine if the household income has a positive or negative impact on cancer death rates.\n"
   ]
  },
  {
   "cell_type": "code",
   "execution_count": 11,
   "metadata": {},
   "outputs": [],
   "source": [
    "yearvsincome = df.groupby(['Year'])\n",
    "p1 = yearvsincome.agg({'Median_Household_Income': 'mean', 'Death_rate': 'mean'})\n",
    "p1 = p1.reset_index()"
   ]
  },
  {
   "cell_type": "code",
   "execution_count": 12,
   "metadata": {},
   "outputs": [
    {
     "data": {
      "image/png": "[encoded data removed]",
      "text/plain": [
       "<Figure size 864x360 with 2 Axes>"
      ]
     },
     "metadata": {
      "needs_background": "light"
     },
     "output_type": "display_data"
    }
   ],
   "source": [
    "fig = plt.figure(figsize = (12, 5))\n",
    "\n",
    "ax1 = plt.subplot(1,2,2)\n",
    "ax2 = plt.subplot(1,2,1)\n",
    "\n",
    "ax1.plot(p1['Median_Household_Income'], p1['Death_rate'])\n",
    "\n",
    "ax1.spines['top'].set_visible(False)\n",
    "ax1.spines['right'].set_visible(False)\n",
    "\n",
    "ax1.set_title('Cancer Death Rate in the United States (1999 - 2014)', loc = 'center', fontdict = {'fontsize': 13})\n",
    "ax1.set_xlabel('Median Household Income', fontdict = {'fontsize': 10, 'weight': 'bold'})\n",
    "\n",
    "ax2.scatter(p1['Year'], p1['Median_Household_Income'])\n",
    "\n",
    "ax2.spines['top'].set_visible(False)\n",
    "ax2.spines['right'].set_visible(False)\n",
    "\n",
    "ax2.set_title('Median Household Income of United States (1999 - 2014)', loc = 'center', fontdict = {'fontsize': 13})\n",
    "ax2.set_xlabel('Year', fontdict = {'fontsize': 10, 'weight': 'bold'})\n",
    "\n",
    "ax1.yaxis.grid()\n",
    "ax2.yaxis.grid()\n",
    "plt.tight_layout()\n",
    "\n"
   ]
  },
  {
   "cell_type": "markdown",
   "metadata": {},
   "source": [
    "***Summary***: From the two graphs above we can notice some key things. From the first graph, we can see that the median household income of the country has increased over the years. From the second graph, we can also see that the mean age-adjusted cancer death rate for the entire country has decreased as the median household income increases. This analysis can be useful later on. "
   ]
  },
  {
   "cell_type": "markdown",
   "metadata": {},
   "source": [
    "## Visualization 2\n",
    "\n",
    "The higher the median household income of a state the better the chances that the population that is insured for that state are higher as well. Lack of insurance among the relatively lower-income household can result in not being able to pay for the treatment required for Cancer. For the first graph, I will see if the median household income value of a state has any effect on the number of uninsured people in that state.\n"
   ]
  },
  {
   "cell_type": "code",
   "execution_count": 13,
   "metadata": {},
   "outputs": [
    {
     "data": {
      "image/png": "[encoded data removed]",
      "text/plain": [
       "<Figure size 576x360 with 1 Axes>"
      ]
     },
     "metadata": {
      "needs_background": "light"
     },
     "output_type": "display_data"
    }
   ],
   "source": [
    "f, ax = plt.subplots(figsize = (8, 5))\n",
    "\n",
    "ax.scatter(df_3['Median_Household_Income'], df_3['Uninsured (%)'])\n",
    "\n",
    "ax.spines['top'].set_visible(False)\n",
    "ax.spines['right'].set_visible(False)\n",
    "\n",
    "ax.set_ylabel('Uninsured', fontdict = {'weight': 'bold'})\n",
    "ax.set_xlabel('Median Household Income', fontdict = {'weight': 'bold'})\n",
    "ax.set_title('Rate of Uninsured (2010 - 2014)', fontdict={'size': 20}, loc = 'left')\n",
    "\n",
    "plt.tight_layout()\n",
    "plt.show()"
   ]
  },
  {
   "cell_type": "markdown",
   "metadata": {},
   "source": [
    "***Summary:*** As we can see from the above scatterplot the percent who are uninsured decreases as the median household income of a state inceases. This can suggest that our intital assumption might be right. We will be looking at a final visualization."
   ]
  },
  {
   "cell_type": "markdown",
   "metadata": {},
   "source": [
    "## Visualization 3\n",
    "\n",
    "For the final visualization I will be comparing the death rates of 5 states by looking at how the cancer death rates of each individal state vary with the median household income of those states. This can clarify if a tate with a higher median household income such as Maryland has a lower cancer death rate than say Mississippi whihc hasone of the lowest median household income of all states in america for the year 2014."
   ]
  },
  {
   "cell_type": "code",
   "execution_count": 14,
   "metadata": {},
   "outputs": [
    {
     "data": {
      "image/png": "[encoded data removed]",
      "text/plain": [
       "<Figure size 720x432 with 1 Axes>"
      ]
     },
     "metadata": {
      "needs_background": "light"
     },
     "output_type": "display_data"
    }
   ],
   "source": [
    "MD = df[df['State'] == 'Maryland']\n",
    "MS = df[df['State'] == 'Mississippi']\n",
    "NJ = df[df['State'] == 'New Jersey']\n",
    "NC = df[df['State'] == 'North Carolina']\n",
    "IL = df[df['State'] == 'Illinois']\n",
    "\n",
    "df_2 = pd.concat([MD, MS, NJ, NC, IL])\n",
    "\n",
    "f, ax = plt.subplots(figsize = (10, 6))\n",
    "sns.scatterplot(df_2['Median_Household_Income'], df_2['Death_rate'], hue = df_2['State'])\n",
    "\n",
    "ax.spines['top'].set_visible(False)\n",
    "ax.spines['right'].set_visible(False)\n",
    "ax.set_ylabel('Death Rate', fontdict = {'weight': 'bold'})\n",
    "ax.set_xlabel('Median Household Income', fontdict = {'weight': 'bold'})\n",
    "\n",
    "plt.title('Cancer Death Rates (1994 - 2014)', fontdict={'size': 20}, loc = 'left')\n",
    "\n",
    "plt.show()"
   ]
  },
  {
   "cell_type": "markdown",
   "metadata": {},
   "source": [
    "***Summary:*** As we can see from. the graph above countries with a higher median household income such as Maryland and New Jersey have a significantly lower cancer death rate than states with lower median household incomes such as Mississippi and North Carolina."
   ]
  },
  {
   "cell_type": "markdown",
   "metadata": {},
   "source": [
    "## OLS Model\n",
    "\n",
    "Finally I will build an OLD model where the independent X variable will be Median Household Income and the dependent Y Variable will be the cancer death rates. By constructing the model we can gauge if it is accurate enough to give predictions for cancer death rates."
   ]
  },
  {
   "cell_type": "code",
   "execution_count": 15,
   "metadata": {
    "scrolled": false
   },
   "outputs": [
    {
     "data": {
      "text/html": [
       "<table class=\"simpletable\">\n",
       "<caption>OLS Regression Results</caption>\n",
       "<tr>\n",
       "  <th>Dep. Variable:</th>       <td>Death_rate</td>    <th>  R-squared:         </th> <td>   0.361</td>\n",
       "</tr>\n",
       "<tr>\n",
       "  <th>Model:</th>                   <td>OLS</td>       <th>  Adj. R-squared:    </th> <td>   0.360</td>\n",
       "</tr>\n",
       "<tr>\n",
       "  <th>Method:</th>             <td>Least Squares</td>  <th>  F-statistic:       </th> <td>   460.4</td>\n",
       "</tr>\n",
       "<tr>\n",
       "  <th>Date:</th>             <td>Wed, 02 Dec 2020</td> <th>  Prob (F-statistic):</th> <td>2.72e-81</td>\n",
       "</tr>\n",
       "<tr>\n",
       "  <th>Time:</th>                 <td>22:55:08</td>     <th>  Log-Likelihood:    </th> <td> -3422.4</td>\n",
       "</tr>\n",
       "<tr>\n",
       "  <th>No. Observations:</th>      <td>   816</td>      <th>  AIC:               </th> <td>   6849.</td>\n",
       "</tr>\n",
       "<tr>\n",
       "  <th>Df Residuals:</th>          <td>   814</td>      <th>  BIC:               </th> <td>   6858.</td>\n",
       "</tr>\n",
       "<tr>\n",
       "  <th>Df Model:</th>              <td>     1</td>      <th>                     </th>     <td> </td>   \n",
       "</tr>\n",
       "<tr>\n",
       "  <th>Covariance Type:</th>      <td>nonrobust</td>    <th>                     </th>     <td> </td>   \n",
       "</tr>\n",
       "</table>\n",
       "<table class=\"simpletable\">\n",
       "<tr>\n",
       "             <td></td>                <th>coef</th>     <th>std err</th>      <th>t</th>      <th>P>|t|</th>  <th>[0.025</th>    <th>0.975]</th>  \n",
       "</tr>\n",
       "<tr>\n",
       "  <th>Intercept</th>               <td>  249.0226</td> <td>    3.153</td> <td>   78.975</td> <td> 0.000</td> <td>  242.833</td> <td>  255.212</td>\n",
       "</tr>\n",
       "<tr>\n",
       "  <th>Median_Household_Income</th> <td>   -0.0014</td> <td> 6.51e-05</td> <td>  -21.456</td> <td> 0.000</td> <td>   -0.002</td> <td>   -0.001</td>\n",
       "</tr>\n",
       "</table>\n",
       "<table class=\"simpletable\">\n",
       "<tr>\n",
       "  <th>Omnibus:</th>       <td> 9.011</td> <th>  Durbin-Watson:     </th> <td>   0.298</td>\n",
       "</tr>\n",
       "<tr>\n",
       "  <th>Prob(Omnibus):</th> <td> 0.011</td> <th>  Jarque-Bera (JB):  </th> <td>   9.157</td>\n",
       "</tr>\n",
       "<tr>\n",
       "  <th>Skew:</th>          <td>-0.259</td> <th>  Prob(JB):          </th> <td>  0.0103</td>\n",
       "</tr>\n",
       "<tr>\n",
       "  <th>Kurtosis:</th>      <td> 2.974</td> <th>  Cond. No.          </th> <td>2.72e+05</td>\n",
       "</tr>\n",
       "</table><br/><br/>Warnings:<br/>[1] Standard Errors assume that the covariance matrix of the errors is correctly specified.<br/>[2] The condition number is large, 2.72e+05. This might indicate that there are<br/>strong multicollinearity or other numerical problems."
      ],
      "text/plain": [
       "<class 'statsmodels.iolib.summary.Summary'>\n",
       "\"\"\"\n",
       "                            OLS Regression Results                            \n",
       "==============================================================================\n",
       "Dep. Variable:             Death_rate   R-squared:                       0.361\n",
       "Model:                            OLS   Adj. R-squared:                  0.360\n",
       "Method:                 Least Squares   F-statistic:                     460.4\n",
       "Date:                Wed, 02 Dec 2020   Prob (F-statistic):           2.72e-81\n",
       "Time:                        22:55:08   Log-Likelihood:                -3422.4\n",
       "No. Observations:                 816   AIC:                             6849.\n",
       "Df Residuals:                     814   BIC:                             6858.\n",
       "Df Model:                           1                                         \n",
       "Covariance Type:            nonrobust                                         \n",
       "===========================================================================================\n",
       "                              coef    std err          t      P>|t|      [0.025      0.975]\n",
       "-------------------------------------------------------------------------------------------\n",
       "Intercept                 249.0226      3.153     78.975      0.000     242.833     255.212\n",
       "Median_Household_Income    -0.0014   6.51e-05    -21.456      0.000      -0.002      -0.001\n",
       "==============================================================================\n",
       "Omnibus:                        9.011   Durbin-Watson:                   0.298\n",
       "Prob(Omnibus):                  0.011   Jarque-Bera (JB):                9.157\n",
       "Skew:                          -0.259   Prob(JB):                       0.0103\n",
       "Kurtosis:                       2.974   Cond. No.                     2.72e+05\n",
       "==============================================================================\n",
       "\n",
       "Warnings:\n",
       "[1] Standard Errors assume that the covariance matrix of the errors is correctly specified.\n",
       "[2] The condition number is large, 2.72e+05. This might indicate that there are\n",
       "strong multicollinearity or other numerical problems.\n",
       "\"\"\""
      ]
     },
     "execution_count": 15,
     "metadata": {},
     "output_type": "execute_result"
    }
   ],
   "source": [
    "from statsmodels.formula.api import ols\n",
    "formula = \"Death_rate ~ Median_Household_Income\"\n",
    "model_ols = ols(formula = formula , data = df).fit()\n",
    "model_ols.summary()"
   ]
  },
  {
   "cell_type": "markdown",
   "metadata": {},
   "source": [
    "***Summary:*** From the results of the OLS model we can see that model has a R Squared value of 0.361, which means the model can predict with an accuracy of 36.1%. There is also some collinearity that we can see between the X and Y variables."
   ]
  },
  {
   "cell_type": "markdown",
   "metadata": {},
   "source": [
    "## Final Summary and Learning:\n",
    "\n",
    "Based on the project implemented there are some key points that we have learned.\n",
    "\n",
    "1) From the analysis and visualization conducted in the project we can see that the median Household Income certainly has an inverse relationship with cancer death rates. This relationship suggests that to some extent, income and wealth directly support better health and lesser death rates because wealthier people can afford the resources that protect and improve health. In contrast to many low-income people, they tend to have jobs that are more stable and flexible; provide good benefits, like paid leave, health insurance, and worksite wellness programs; and have fewer occupational hazards. More affluent people have more disposable income and can more easily afford medical care and a healthy lifestyle—benefits that also extend to their children.\n",
    "\n",
    "2) We have also seen that there is an inverse relationship between median household income and the number of uninsured people in a state. This is an important observation as it can be deduced that the higher the number of people who have health insurance the more likely they can afford the treatment required for cancer which results in a lesser likelihood of death.\n",
    "\n",
    "3) As we have seen the Median Household Income cannot alone help predict cancer death rates. This is due to the omission of various other variables that can play a part in determining the cancer death rate of a state. Some of them can be health insurance costs for each state, parity differences among states, health and sustainability policies and so much more. Also, a better understanding of the health disparities among minorities of a state can help give a better understanding of the demographic which can help improve the performance of the model."
   ]
  }
 ],
 "metadata": {
  "kernelspec": {
   "display_name": "Python 3",
   "language": "python",
   "name": "python3"
  },
  "language_info": {
   "codemirror_mode": {
    "name": "ipython",
    "version": 3
   },
   "file_extension": ".py",
   "mimetype": "text/x-python",
   "name": "python",
   "nbconvert_exporter": "python",
   "pygments_lexer": "ipython3",
   "version": "3.8.3"
  }
 },
 "nbformat": 4,
 "nbformat_minor": 4
}
